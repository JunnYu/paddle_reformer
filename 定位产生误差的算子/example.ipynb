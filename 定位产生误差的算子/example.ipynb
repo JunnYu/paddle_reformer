{
 "cells": [
  {
   "cell_type": "code",
   "execution_count": 1,
   "source": [
    "import torch\n",
    "import paddle\n"
   ],
   "outputs": [
    {
     "output_type": "stream",
     "name": "stderr",
     "text": [
      "/usr/lib/python3/dist-packages/urllib3/util/selectors.py:14: DeprecationWarning: Using or importing the ABCs from 'collections' instead of from 'collections.abc' is deprecated since Python 3.3, and in 3.10 it will stop working\n",
      "  from collections import namedtuple, Mapping\n",
      "/usr/lib/python3/dist-packages/urllib3/_collections.py:2: DeprecationWarning: Using or importing the ABCs from 'collections' instead of from 'collections.abc' is deprecated since Python 3.3, and in 3.10 it will stop working\n",
      "  from collections import Mapping, MutableMapping\n"
     ]
    }
   ],
   "metadata": {}
  },
  {
   "cell_type": "code",
   "execution_count": 2,
   "source": [
    "def compare(a, b):\n",
    "    a = torch.from_numpy(a.cpu().numpy()).float()\n",
    "    b = torch.from_numpy(b.cpu().numpy()).float()\n",
    "    r1 = str((a - b).abs().mean())\n",
    "    r2 = str((a - b).abs().max())\n",
    "    print(r1)\n",
    "    print(r2)"
   ],
   "outputs": [
    {
     "output_type": "stream",
     "name": "stderr",
     "text": [
      "/usr/local/lib/python3.8/dist-packages/ipykernel/ipkernel.py:283: DeprecationWarning: `should_run_async` will not call `transform_cell` automatically in the future. Please pass the result to `transformed_cell` argument and any exception that happen during thetransform in `preprocessing_exc_tuple` in IPython 7.17 and above.\n",
      "  and should_run_async(code)\n"
     ]
    }
   ],
   "metadata": {}
  },
  {
   "cell_type": "code",
   "execution_count": 3,
   "source": [
    "torch_weight,torch_bias = torch.load(\"pt_x.pt\")\n",
    "paddle_weight,paddle_bias = paddle.load(\"pd_x.pd\")\n",
    "torch_inputs = torch.load(\"weights.pt\")\n",
    "paddle_inputs = paddle.load(\"weights.pd\")"
   ],
   "outputs": [],
   "metadata": {}
  },
  {
   "cell_type": "code",
   "execution_count": 4,
   "source": [
    "compare(torch_weight,paddle_weight.t())"
   ],
   "outputs": [
    {
     "output_type": "stream",
     "name": "stdout",
     "text": [
      "tensor(0.)\n",
      "tensor(0.)\n"
     ]
    }
   ],
   "metadata": {}
  },
  {
   "cell_type": "code",
   "execution_count": 5,
   "source": [
    "compare(torch_bias,paddle_bias)"
   ],
   "outputs": [
    {
     "output_type": "stream",
     "name": "stdout",
     "text": [
      "tensor(0.)\n",
      "tensor(0.)\n"
     ]
    }
   ],
   "metadata": {}
  },
  {
   "cell_type": "code",
   "execution_count": 6,
   "source": [
    "compare(torch_inputs,paddle_inputs)"
   ],
   "outputs": [
    {
     "output_type": "stream",
     "name": "stdout",
     "text": [
      "tensor(0.)\n",
      "tensor(0.)\n"
     ]
    }
   ],
   "metadata": {}
  },
  {
   "cell_type": "code",
   "execution_count": 7,
   "source": [
    "shuchu1 = torch.matmul(torch_inputs,torch_weight.cuda().t()) + torch_bias.cuda()\n",
    "shuchu2 = paddle.matmul(paddle_inputs,paddle_weight) + paddle_bias\n",
    "compare(shuchu1,shuchu2)"
   ],
   "outputs": [
    {
     "output_type": "stream",
     "name": "stdout",
     "text": [
      "tensor(4.2843e-06)\n",
      "tensor(3.6240e-05)\n"
     ]
    }
   ],
   "metadata": {}
  },
  {
   "cell_type": "code",
   "execution_count": 8,
   "source": [
    "# 误差存在,达到10-8级别，还算正常。\n",
    "import paddle\n",
    "import torch\n",
    "import numpy as np\n",
    "\n",
    "# 正态分布0,0.02\n",
    "pd_linear_weight = paddle.normal(0,0.02,(768,768))\n",
    "pd_linear_bias = paddle.normal(0,0.02,(768,))\n",
    "\n",
    "# 我也定义了类似torch.nn.Linear并使用paddle权重进行初始化\n",
    "pt_linear_weight = torch.tensor(pd_linear_weight.t().numpy()).cuda()\n",
    "pt_linear_bias = torch.tensor(pd_linear_bias.numpy()).cuda()\n",
    "\n",
    "# 初始化输入\n",
    "# 正态分布0,0.02\n",
    "pd_inputs = paddle.normal(0,0.02,(32,768)) \n",
    "pt_inputs = torch.tensor(pd_inputs.numpy()).cuda()\n",
    "\n",
    "o1 = paddle.matmul(pd_inputs,pd_linear_weight,transpose_y=True) + pd_linear_bias\n",
    "o2 = torch.matmul(pt_inputs,pt_linear_weight)  + pt_linear_bias\n",
    "o1 = o1.numpy()\n",
    "o2 = o2.cpu().numpy()\n",
    "\n",
    "print(\"amax \",np.abs(o1-o2).max())\n",
    "print(\"amean \",np.abs(o1-o2).mean())\n",
    "print(np.all(np.isclose(o1,o2 , atol=0, rtol=1.e-6)))"
   ],
   "outputs": [
    {
     "output_type": "stream",
     "name": "stdout",
     "text": [
      "amax  2.2351742e-08\n",
      "amean  3.6701877e-09\n",
      "False\n"
     ]
    }
   ],
   "metadata": {}
  },
  {
   "cell_type": "code",
   "execution_count": 9,
   "source": [
    "# 误差存在,达到10-5级别，误差太大了。\n",
    "import paddle\n",
    "import torch\n",
    "import numpy as np\n",
    "\n",
    "# 正态分布0,0.02\n",
    "pd_linear_weight = paddle.normal(0,1,(768,768))\n",
    "pd_linear_bias = paddle.normal(0,1,(768,))\n",
    "\n",
    "# 我也定义了类似torch.nn.Linear并使用paddle权重进行初始化\n",
    "pt_linear_weight = torch.tensor(pd_linear_weight.t().numpy()).cuda()\n",
    "pt_linear_bias = torch.tensor(pd_linear_bias.numpy()).cuda()\n",
    "\n",
    "# 初始化输入\n",
    "# 正态分布0,0.02\n",
    "pd_inputs = paddle.normal(0,1,(32,768)) \n",
    "pt_inputs = torch.tensor(pd_inputs.numpy()).cuda()\n",
    "\n",
    "o1 = paddle.matmul(pd_inputs,pd_linear_weight,transpose_y=True) + pd_linear_bias\n",
    "o2 = torch.matmul(pt_inputs,pt_linear_weight)  + pt_linear_bias\n",
    "o1 = o1.numpy()\n",
    "o2 = o2.cpu().numpy()\n",
    "\n",
    "print(\"amax \",np.abs(o1-o2).max())\n",
    "print(\"amean \",np.abs(o1-o2).mean())\n",
    "print(np.all(np.isclose(o1,o2 , atol=0, rtol=1.e-6)))"
   ],
   "outputs": [
    {
     "output_type": "stream",
     "name": "stdout",
     "text": [
      "amax  5.722046e-05\n",
      "amean  9.370713e-06\n",
      "False\n"
     ]
    }
   ],
   "metadata": {}
  },
  {
   "cell_type": "code",
   "execution_count": 11,
   "source": [
    "# 误差存在,达到10-4级别，误差太大了。（方差越大，对齐的时候误差也就越大。）\n",
    "import paddle\n",
    "import torch\n",
    "import numpy as np\n",
    "\n",
    "# 正态分布0,2\n",
    "pd_linear_weight = paddle.normal(0,2,(768,768))\n",
    "pd_linear_bias = paddle.normal(0,2,(768,))\n",
    "\n",
    "# 我也定义了类似torch.nn.Linear并使用paddle权重进行初始化\n",
    "pt_linear_weight = torch.tensor(pd_linear_weight.t().numpy()).cuda()\n",
    "pt_linear_bias = torch.tensor(pd_linear_bias.numpy()).cuda()\n",
    "\n",
    "# 初始化输入\n",
    "# 正态分布0,2\n",
    "pd_inputs = paddle.normal(0,2,(32,768)) \n",
    "pt_inputs = torch.tensor(pd_inputs.numpy()).cuda()\n",
    "\n",
    "o1 = paddle.matmul(pd_inputs,pd_linear_weight,transpose_y=True) + pd_linear_bias\n",
    "o2 = torch.matmul(pt_inputs,pt_linear_weight)  + pt_linear_bias\n",
    "o1 = o1.numpy()\n",
    "o2 = o2.cpu().numpy()\n",
    "\n",
    "print(\"amax \",np.abs(o1-o2).max())\n",
    "print(\"amean \",np.abs(o1-o2).mean())\n",
    "print(np.all(np.isclose(o1,o2 , atol=0, rtol=1.e-6)))"
   ],
   "outputs": [
    {
     "output_type": "stream",
     "name": "stdout",
     "text": [
      "amax  0.00022888184\n",
      "amean  3.724343e-05\n",
      "False\n"
     ]
    }
   ],
   "metadata": {}
  }
 ],
 "metadata": {
  "interpreter": {
   "hash": "086317466957d500e1e3add5d1080e4cde135e955220d9fc98fd7fe59df8a909"
  },
  "kernelspec": {
   "name": "python3",
   "display_name": "Python 3.7.3 64-bit"
  },
  "language_info": {
   "codemirror_mode": {
    "name": "ipython",
    "version": 3
   },
   "file_extension": ".py",
   "mimetype": "text/x-python",
   "name": "python",
   "nbconvert_exporter": "python",
   "pygments_lexer": "ipython3",
   "version": "3.7.3"
  }
 },
 "nbformat": 4,
 "nbformat_minor": 4
}