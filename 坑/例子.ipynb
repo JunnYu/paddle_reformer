{
 "cells": [
  {
   "cell_type": "code",
   "execution_count": 1,
   "source": [
    "import paddle\n",
    "import torch\n",
    "paddle.set_device(\"cpu\")\n",
    "def compare(a, b):\n",
    "    a = torch.from_numpy(a.numpy()).float()\n",
    "    b = torch.from_numpy(b.numpy()).float()\n",
    "    print(\"mean dif:\", (a - b).abs().mean())\n",
    "    print(\"max dif:\", (a - b).abs().max())\n",
    "\n",
    "def to_pytorch(x):\n",
    "    return torch.from_numpy(x.numpy())\n",
    "\n",
    "def to_paddle(x):\n",
    "    return paddle.to_tensor(x.numpy())"
   ],
   "outputs": [
    {
     "output_type": "stream",
     "name": "stderr",
     "text": [
      "C:\\Users\\yujun\\AppData\\Local\\Programs\\Python\\Python37\\lib\\site-packages\\urllib3\\util\\selectors.py:14: DeprecationWarning: Using or importing the ABCs from 'collections' instead of from 'collections.abc' is deprecated, and in 3.8 it will stop working\n",
      "  from collections import namedtuple, Mapping\n",
      "C:\\Users\\yujun\\AppData\\Local\\Programs\\Python\\Python37\\lib\\site-packages\\urllib3\\_collections.py:2: DeprecationWarning: Using or importing the ABCs from 'collections' instead of from 'collections.abc' is deprecated, and in 3.8 it will stop working\n",
      "  from collections import Mapping, MutableMapping\n",
      "C:\\Users\\yujun\\AppData\\Local\\Programs\\Python\\Python37\\lib\\site-packages\\_distutils_hack\\__init__.py:19: UserWarning: Distutils was imported before Setuptools. This usage is discouraged and may exhibit undesirable behaviors or errors. Please use Setuptools' objects directly or at least import Setuptools first.\n",
      "  \"Distutils was imported before Setuptools. This usage is discouraged \"\n"
     ]
    }
   ],
   "metadata": {}
  },
  {
   "cell_type": "code",
   "execution_count": 2,
   "source": [
    "ptx = torch.randn(2,3,4,5,6)\n",
    "pdx = to_paddle(ptx)"
   ],
   "outputs": [
    {
     "output_type": "stream",
     "name": "stderr",
     "text": [
      "C:\\Users\\yujun\\AppData\\Local\\Programs\\Python\\Python37\\lib\\site-packages\\ipykernel\\ipkernel.py:283: DeprecationWarning: `should_run_async` will not call `transform_cell` automatically in the future. Please pass the result to `transformed_cell` argument and any exception that happen during thetransform in `preprocessing_exc_tuple` in IPython 7.17 and above.\n",
      "  and should_run_async(code)\n"
     ]
    }
   ],
   "metadata": {}
  },
  {
   "cell_type": "markdown",
   "source": [
    "## 一、paddle.logsumexp不支持5D tensor"
   ],
   "metadata": {}
  },
  {
   "cell_type": "code",
   "execution_count": 3,
   "source": [
    "o1 = torch.logsumexp(ptx,axis=-1)\n",
    "o2 = paddle.logsumexp(pdx,axis=-1)"
   ],
   "outputs": [
    {
     "output_type": "error",
     "ename": "ValueError",
     "evalue": "(InvalidArgument) The input tensor X's dimensions of logsumexp should be less or equal than 4. But received X's dimensions = 5, X's shape = [2, 3, 4, 5, 6].\n  [Hint: Expected x_rank <= 4, but received x_rank:5 > 4:4.] (at C:\\home\\workspace\\Paddle_release2\\paddle\\fluid\\operators\\reduce_ops\\logsumexp_op.cc:37)\n  [operator < logsumexp > error]",
     "traceback": [
      "\u001b[1;31m---------------------------------------------------------------------------\u001b[0m",
      "\u001b[1;31mValueError\u001b[0m                                Traceback (most recent call last)",
      "\u001b[1;32m<ipython-input-3-ea832d84ad19>\u001b[0m in \u001b[0;36m<module>\u001b[1;34m\u001b[0m\n\u001b[0;32m      1\u001b[0m \u001b[0mo1\u001b[0m \u001b[1;33m=\u001b[0m \u001b[0mtorch\u001b[0m\u001b[1;33m.\u001b[0m\u001b[0mlogsumexp\u001b[0m\u001b[1;33m(\u001b[0m\u001b[0mptx\u001b[0m\u001b[1;33m,\u001b[0m\u001b[0maxis\u001b[0m\u001b[1;33m=\u001b[0m\u001b[1;33m-\u001b[0m\u001b[1;36m1\u001b[0m\u001b[1;33m)\u001b[0m\u001b[1;33m\u001b[0m\u001b[1;33m\u001b[0m\u001b[0m\n\u001b[1;32m----> 2\u001b[1;33m \u001b[0mo2\u001b[0m \u001b[1;33m=\u001b[0m \u001b[0mpaddle\u001b[0m\u001b[1;33m.\u001b[0m\u001b[0mlogsumexp\u001b[0m\u001b[1;33m(\u001b[0m\u001b[0mpdx\u001b[0m\u001b[1;33m,\u001b[0m\u001b[0maxis\u001b[0m\u001b[1;33m=\u001b[0m\u001b[1;33m-\u001b[0m\u001b[1;36m1\u001b[0m\u001b[1;33m)\u001b[0m\u001b[1;33m\u001b[0m\u001b[1;33m\u001b[0m\u001b[0m\n\u001b[0m",
      "\u001b[1;32m~\\AppData\\Local\\Programs\\Python\\Python37\\lib\\site-packages\\paddle\\tensor\\math.py\u001b[0m in \u001b[0;36mlogsumexp\u001b[1;34m(x, axis, keepdim, name)\u001b[0m\n\u001b[0;32m   1071\u001b[0m \u001b[1;33m\u001b[0m\u001b[0m\n\u001b[0;32m   1072\u001b[0m     \u001b[1;32mif\u001b[0m \u001b[0min_dygraph_mode\u001b[0m\u001b[1;33m(\u001b[0m\u001b[1;33m)\u001b[0m\u001b[1;33m:\u001b[0m\u001b[1;33m\u001b[0m\u001b[1;33m\u001b[0m\u001b[0m\n\u001b[1;32m-> 1073\u001b[1;33m         \u001b[1;32mreturn\u001b[0m \u001b[0mcore\u001b[0m\u001b[1;33m.\u001b[0m\u001b[0mops\u001b[0m\u001b[1;33m.\u001b[0m\u001b[0mlogsumexp\u001b[0m\u001b[1;33m(\u001b[0m\u001b[0mx\u001b[0m\u001b[1;33m,\u001b[0m \u001b[1;34m'axis'\u001b[0m\u001b[1;33m,\u001b[0m \u001b[0maxis\u001b[0m\u001b[1;33m,\u001b[0m \u001b[1;34m'keepdim'\u001b[0m\u001b[1;33m,\u001b[0m \u001b[0mkeepdim\u001b[0m\u001b[1;33m,\u001b[0m \u001b[1;34m'reduce_all'\u001b[0m\u001b[1;33m,\u001b[0m \u001b[0mreduce_all\u001b[0m\u001b[1;33m)\u001b[0m\u001b[1;33m\u001b[0m\u001b[1;33m\u001b[0m\u001b[0m\n\u001b[0m\u001b[0;32m   1074\u001b[0m \u001b[1;33m\u001b[0m\u001b[0m\n\u001b[0;32m   1075\u001b[0m     check_variable_and_dtype(x, 'x',\n",
      "\u001b[1;31mValueError\u001b[0m: (InvalidArgument) The input tensor X's dimensions of logsumexp should be less or equal than 4. But received X's dimensions = 5, X's shape = [2, 3, 4, 5, 6].\n  [Hint: Expected x_rank <= 4, but received x_rank:5 > 4:4.] (at C:\\home\\workspace\\Paddle_release2\\paddle\\fluid\\operators\\reduce_ops\\logsumexp_op.cc:37)\n  [operator < logsumexp > error]"
     ]
    }
   ],
   "metadata": {}
  },
  {
   "cell_type": "code",
   "execution_count": 4,
   "source": [
    "# 需要自定义方法，降一个维度。\n",
    "def _logsumexp(x, axis=-1, keepdim=False):\n",
    "    if axis < 0:\n",
    "        axis = x.ndim + axis\n",
    "    if axis > 1:\n",
    "        lse = paddle.logsumexp(x.flatten(0, 1), axis=axis - 1, keepdim=keepdim)\n",
    "        orgshape = x.shape\n",
    "        if keepdim:\n",
    "            orgshape[axis] = 1\n",
    "        else:\n",
    "            orgshape = orgshape[:axis] + orgshape[axis + 1 :]\n",
    "\n",
    "        return lse.reshape(shape=orgshape)\n",
    "    else:\n",
    "        raise ValueError(\"axis must greater 1\")\n",
    "o2 = _logsumexp(pdx,axis=-1)\n",
    "compare(o1,o2)"
   ],
   "outputs": [
    {
     "output_type": "stream",
     "name": "stdout",
     "text": [
      "mean dif: tensor(2.5829e-08)\n",
      "max dif: tensor(2.3842e-07)\n"
     ]
    }
   ],
   "metadata": {}
  },
  {
   "cell_type": "markdown",
   "source": [
    "## 二、不支持这种方法增加维度和省略号代表维度\n"
   ],
   "metadata": {}
  },
  {
   "cell_type": "code",
   "execution_count": 5,
   "source": [
    "# 不支持这种方法增加维度和省略号代表维度\n",
    "print(ptx.shape)\n",
    "print(ptx[:,None,:].shape)\n",
    "print(ptx[...,-1].shape)\n",
    "# 需要unsqueeze\n",
    "print(pdx.unsqueeze([1]).shape)"
   ],
   "outputs": [
    {
     "output_type": "stream",
     "name": "stdout",
     "text": [
      "torch.Size([2, 3, 4, 5, 6])\n",
      "torch.Size([2, 1, 3, 4, 5, 6])\n",
      "torch.Size([2, 3, 4, 5])\n",
      "[2, 1, 3, 4, 5, 6]\n"
     ]
    }
   ],
   "metadata": {}
  },
  {
   "cell_type": "code",
   "execution_count": 6,
   "source": [
    "# 使用None添加维度，失败\n",
    "print(pdx[:,None].shape)"
   ],
   "outputs": [
    {
     "output_type": "error",
     "ename": "ValueError",
     "evalue": "(InvalidArgument) Currently, VarBase.__getitem__() only allows indexing by Integers, Slices, and tuples of these types, but received NoneType in 2th slice item\n  [Hint: Expected PyCheckInteger(slice_item) || ((((PyObject*)(slice_item))->ob_type) == &PySlice_Type) == true, but received PyCheckInteger(slice_item) || ((((PyObject*)(slice_item))->ob_type) == &PySlice_Type):0 != true:1.] (at C:\\home\\workspace\\Paddle_release2\\paddle\\fluid\\pybind\\imperative.cc:430)\n",
     "traceback": [
      "\u001b[1;31m---------------------------------------------------------------------------\u001b[0m",
      "\u001b[1;31mValueError\u001b[0m                                Traceback (most recent call last)",
      "\u001b[1;32m<ipython-input-6-da0cc97ffe68>\u001b[0m in \u001b[0;36m<module>\u001b[1;34m\u001b[0m\n\u001b[0;32m      1\u001b[0m \u001b[1;31m# 使用None添加维度，失败\u001b[0m\u001b[1;33m\u001b[0m\u001b[1;33m\u001b[0m\u001b[1;33m\u001b[0m\u001b[0m\n\u001b[1;32m----> 2\u001b[1;33m \u001b[0mprint\u001b[0m\u001b[1;33m(\u001b[0m\u001b[0mpdx\u001b[0m\u001b[1;33m[\u001b[0m\u001b[1;33m:\u001b[0m\u001b[1;33m,\u001b[0m\u001b[1;32mNone\u001b[0m\u001b[1;33m]\u001b[0m\u001b[1;33m.\u001b[0m\u001b[0mshape\u001b[0m\u001b[1;33m)\u001b[0m\u001b[1;33m\u001b[0m\u001b[1;33m\u001b[0m\u001b[0m\n\u001b[0m",
      "\u001b[1;32m~\\AppData\\Local\\Programs\\Python\\Python37\\lib\\site-packages\\paddle\\fluid\\dygraph\\varbase_patch_methods.py\u001b[0m in \u001b[0;36m__getitem__\u001b[1;34m(self, item)\u001b[0m\n\u001b[0;32m    564\u001b[0m         \u001b[1;32melse\u001b[0m\u001b[1;33m:\u001b[0m\u001b[1;33m\u001b[0m\u001b[1;33m\u001b[0m\u001b[0m\n\u001b[0;32m    565\u001b[0m             \u001b[1;31m# 2. Call c++ func getitem_index_not_tensor to speedup.\u001b[0m\u001b[1;33m\u001b[0m\u001b[1;33m\u001b[0m\u001b[1;33m\u001b[0m\u001b[0m\n\u001b[1;32m--> 566\u001b[1;33m             \u001b[1;32mreturn\u001b[0m \u001b[0mself\u001b[0m\u001b[1;33m.\u001b[0m\u001b[0m_getitem_index_not_tensor\u001b[0m\u001b[1;33m(\u001b[0m\u001b[0mitem\u001b[0m\u001b[1;33m)\u001b[0m\u001b[1;33m\u001b[0m\u001b[1;33m\u001b[0m\u001b[0m\n\u001b[0m\u001b[0;32m    567\u001b[0m \u001b[1;33m\u001b[0m\u001b[0m\n\u001b[0;32m    568\u001b[0m     for method_name, method in (\n",
      "\u001b[1;31mValueError\u001b[0m: (InvalidArgument) Currently, VarBase.__getitem__() only allows indexing by Integers, Slices, and tuples of these types, but received NoneType in 2th slice item\n  [Hint: Expected PyCheckInteger(slice_item) || ((((PyObject*)(slice_item))->ob_type) == &PySlice_Type) == true, but received PyCheckInteger(slice_item) || ((((PyObject*)(slice_item))->ob_type) == &PySlice_Type):0 != true:1.] (at C:\\home\\workspace\\Paddle_release2\\paddle\\fluid\\pybind\\imperative.cc:430)\n"
     ]
    }
   ],
   "metadata": {}
  },
  {
   "cell_type": "code",
   "execution_count": 7,
   "source": [
    "# 使用省略号，失败\n",
    "print(pdx[...,-1].shape)"
   ],
   "outputs": [
    {
     "output_type": "error",
     "ename": "ValueError",
     "evalue": "(InvalidArgument) Currently, VarBase.__getitem__() only allows indexing by Integers, Slices, and tuples of these types, but received ellipsis in 1th slice item\n  [Hint: Expected PyCheckInteger(slice_item) || ((((PyObject*)(slice_item))->ob_type) == &PySlice_Type) == true, but received PyCheckInteger(slice_item) || ((((PyObject*)(slice_item))->ob_type) == &PySlice_Type):0 != true:1.] (at C:\\home\\workspace\\Paddle_release2\\paddle\\fluid\\pybind\\imperative.cc:430)\n",
     "traceback": [
      "\u001b[1;31m---------------------------------------------------------------------------\u001b[0m",
      "\u001b[1;31mValueError\u001b[0m                                Traceback (most recent call last)",
      "\u001b[1;32m<ipython-input-7-3434e9d23219>\u001b[0m in \u001b[0;36m<module>\u001b[1;34m\u001b[0m\n\u001b[0;32m      1\u001b[0m \u001b[1;31m# 使用省略号，失败\u001b[0m\u001b[1;33m\u001b[0m\u001b[1;33m\u001b[0m\u001b[1;33m\u001b[0m\u001b[0m\n\u001b[1;32m----> 2\u001b[1;33m \u001b[0mprint\u001b[0m\u001b[1;33m(\u001b[0m\u001b[0mpdx\u001b[0m\u001b[1;33m[\u001b[0m\u001b[1;33m...\u001b[0m\u001b[1;33m,\u001b[0m\u001b[1;33m-\u001b[0m\u001b[1;36m1\u001b[0m\u001b[1;33m]\u001b[0m\u001b[1;33m.\u001b[0m\u001b[0mshape\u001b[0m\u001b[1;33m)\u001b[0m\u001b[1;33m\u001b[0m\u001b[1;33m\u001b[0m\u001b[0m\n\u001b[0m",
      "\u001b[1;32m~\\AppData\\Local\\Programs\\Python\\Python37\\lib\\site-packages\\paddle\\fluid\\dygraph\\varbase_patch_methods.py\u001b[0m in \u001b[0;36m__getitem__\u001b[1;34m(self, item)\u001b[0m\n\u001b[0;32m    564\u001b[0m         \u001b[1;32melse\u001b[0m\u001b[1;33m:\u001b[0m\u001b[1;33m\u001b[0m\u001b[1;33m\u001b[0m\u001b[0m\n\u001b[0;32m    565\u001b[0m             \u001b[1;31m# 2. Call c++ func getitem_index_not_tensor to speedup.\u001b[0m\u001b[1;33m\u001b[0m\u001b[1;33m\u001b[0m\u001b[1;33m\u001b[0m\u001b[0m\n\u001b[1;32m--> 566\u001b[1;33m             \u001b[1;32mreturn\u001b[0m \u001b[0mself\u001b[0m\u001b[1;33m.\u001b[0m\u001b[0m_getitem_index_not_tensor\u001b[0m\u001b[1;33m(\u001b[0m\u001b[0mitem\u001b[0m\u001b[1;33m)\u001b[0m\u001b[1;33m\u001b[0m\u001b[1;33m\u001b[0m\u001b[0m\n\u001b[0m\u001b[0;32m    567\u001b[0m \u001b[1;33m\u001b[0m\u001b[0m\n\u001b[0;32m    568\u001b[0m     for method_name, method in (\n",
      "\u001b[1;31mValueError\u001b[0m: (InvalidArgument) Currently, VarBase.__getitem__() only allows indexing by Integers, Slices, and tuples of these types, but received ellipsis in 1th slice item\n  [Hint: Expected PyCheckInteger(slice_item) || ((((PyObject*)(slice_item))->ob_type) == &PySlice_Type) == true, but received PyCheckInteger(slice_item) || ((((PyObject*)(slice_item))->ob_type) == &PySlice_Type):0 != true:1.] (at C:\\home\\workspace\\Paddle_release2\\paddle\\fluid\\pybind\\imperative.cc:430)\n"
     ]
    }
   ],
   "metadata": {}
  },
  {
   "cell_type": "markdown",
   "source": [
    "## 三、scatter之间的差异，https://www.paddlepaddle.org.cn/documentation/docs/zh/api/paddle/scatter_cn.html\n",
    "## 个人找不到好的方法实现pytorch那种的scatter,只好将tensor压平为1D进行scatter（因为文档中说：index （Tensor）- 一维Tensor。 数据类型可以是int32，int64。 index 的长度不能超过 updates 的长度，并且 index 中的值不能超过输入的长度。）"
   ],
   "metadata": {}
  },
  {
   "cell_type": "code",
   "execution_count": 8,
   "source": [
    "# paddle的代码\n",
    "def pd_get_sorted_bucket_idx_and_undo_sorted_bucket_idx(\n",
    "    sequence_length, buckets, num_hashes\n",
    "):\n",
    "\n",
    "    def pd_stable_argsort(vector, axis):\n",
    "        # this function scales the vector so that paddle.argsort is stable.\n",
    "        # paddle.argsort is not stable on its own\n",
    "        scale_offset = (\n",
    "            paddle.arange(vector.shape[axis]).reshape(shape=[1, -1]).astype(vector.dtype)\n",
    "        )\n",
    "        scale_offset = scale_offset.expand_as(vector)\n",
    "        scaled_vector = vector.shape[axis] * vector + (scale_offset % vector.shape[axis])\n",
    "        return paddle.argsort(scaled_vector, axis=axis)\n",
    "\n",
    "    # no gradients are needed\n",
    "    # buckets shape [batch_size, self.num_attention_heads, num_hashes * sequence_length]\n",
    "    with paddle.no_grad():\n",
    "        original_shape = buckets.shape\n",
    "        new_buckets = buckets.flatten(0, 1)\n",
    "        offsets = (\n",
    "            paddle.arange(new_buckets.shape[0]) * new_buckets.shape[1]\n",
    "        ).unsqueeze(-1)\n",
    "        sorted_bucket_idx = pd_stable_argsort(new_buckets, axis=-1)\n",
    "        new_sorted_bucket_idx = (sorted_bucket_idx + offsets).flatten()\n",
    "        updates = paddle.tile(\n",
    "            paddle.arange(new_buckets.shape[1]), repeat_times=[new_buckets.shape[0]]\n",
    "        )\n",
    "\n",
    "        undo_sorted_bucket_idx = paddle.scatter(\n",
    "            paddle.zeros_like(new_sorted_bucket_idx),\n",
    "            new_sorted_bucket_idx,\n",
    "            updates,\n",
    "            overwrite=True,\n",
    "        )\n",
    "        print(\"=====================================paddle\")\n",
    "        print(\"sorted_bucket_idx\\n\",new_sorted_bucket_idx)\n",
    "        print(\"indices\\n\",updates)\n",
    "    print(\"undo_sorted_bucket_idx\\n\",undo_sorted_bucket_idx)\n",
    "    return sorted_bucket_idx.reshape(\n",
    "        shape=original_shape\n",
    "    ), undo_sorted_bucket_idx.reshape(shape=original_shape)\n",
    "\n",
    "# pytorch的代码\n",
    "def pt_get_sorted_bucket_idx_and_undo_sorted_bucket_idx(sequence_length, buckets, num_hashes):\n",
    "    # no gradients are needed\n",
    "    def pt_stable_argsort(vector, dim):\n",
    "        # this function scales the vector so that torch.argsort is stable.\n",
    "        # torch.argsort is not stable on its own\n",
    "        scale_offset = torch.arange(vector.shape[dim], device=vector.device).view(1, 1, -1)\n",
    "        scale_offset = scale_offset.expand(vector.shape)\n",
    "        scaled_vector = vector.shape[dim] * vector + (scale_offset % vector.shape[dim])\n",
    "        return torch.argsort(scaled_vector, dim=dim)\n",
    "    with torch.no_grad():\n",
    "        # hash-based sort\n",
    "        sorted_bucket_idx = pt_stable_argsort(buckets, dim=-1)\n",
    "\n",
    "        # create simple indices to scatter to, to have undo sort\n",
    "        indices = (\n",
    "            torch.arange(sorted_bucket_idx.shape[-1], device=buckets.device)\n",
    "            .view(1, 1, -1)\n",
    "            .expand(sorted_bucket_idx.shape)\n",
    "        )\n",
    "\n",
    "        # get undo sort\n",
    "        undo_sorted_bucket_idx = sorted_bucket_idx.new(*sorted_bucket_idx.size())\n",
    "        print(\"=====================================pytorch\")\n",
    "        print(\"sorted_bucket_idx\\n\",sorted_bucket_idx)\n",
    "        print(\"indices\\n\",indices)\n",
    "        undo_sorted_bucket_idx.scatter_(-1, sorted_bucket_idx, indices)\n",
    "\n",
    "    print(\"undo_sorted_bucket_idx\\n\",undo_sorted_bucket_idx)\n",
    "    return sorted_bucket_idx, undo_sorted_bucket_idx"
   ],
   "outputs": [],
   "metadata": {}
  },
  {
   "cell_type": "code",
   "execution_count": 9,
   "source": [
    "pt_buckets = torch.randn(2,3,5)\n",
    "pd_buckets = to_paddle(pt_buckets)"
   ],
   "outputs": [],
   "metadata": {}
  },
  {
   "cell_type": "code",
   "execution_count": 10,
   "source": [
    "pt_outputs = pt_get_sorted_bucket_idx_and_undo_sorted_bucket_idx(None,pt_buckets,None)\n",
    "pd_outputs = pd_get_sorted_bucket_idx_and_undo_sorted_bucket_idx(None,pd_buckets,None)"
   ],
   "outputs": [
    {
     "output_type": "stream",
     "name": "stdout",
     "text": [
      "=====================================pytorch\n",
      "sorted_bucket_idx\n",
      " tensor([[[4, 1, 3, 0, 2],\n",
      "         [0, 2, 3, 1, 4],\n",
      "         [2, 0, 3, 1, 4]],\n",
      "\n",
      "        [[4, 0, 1, 2, 3],\n",
      "         [1, 4, 0, 2, 3],\n",
      "         [3, 2, 0, 1, 4]]])\n",
      "indices\n",
      " tensor([[[0, 1, 2, 3, 4],\n",
      "         [0, 1, 2, 3, 4],\n",
      "         [0, 1, 2, 3, 4]],\n",
      "\n",
      "        [[0, 1, 2, 3, 4],\n",
      "         [0, 1, 2, 3, 4],\n",
      "         [0, 1, 2, 3, 4]]])\n",
      "undo_sorted_bucket_idx\n",
      " tensor([[[3, 1, 4, 2, 0],\n",
      "         [0, 3, 1, 2, 4],\n",
      "         [1, 3, 0, 2, 4]],\n",
      "\n",
      "        [[1, 2, 3, 4, 0],\n",
      "         [2, 0, 3, 4, 1],\n",
      "         [2, 3, 1, 0, 4]]])\n",
      "=====================================paddle\n",
      "sorted_bucket_idx\n",
      " Tensor(shape=[30], dtype=int64, place=CPUPlace, stop_gradient=True,\n",
      "       [4 , 1 , 3 , 0 , 2 , 5 , 7 , 8 , 6 , 9 , 12, 10, 13, 11, 14, 19, 15, 16, 17, 18, 21, 24, 20, 22, 23, 28, 27, 25, 26, 29])\n",
      "indices\n",
      " Tensor(shape=[30], dtype=int64, place=CPUPlace, stop_gradient=True,\n",
      "       [0, 1, 2, 3, 4, 0, 1, 2, 3, 4, 0, 1, 2, 3, 4, 0, 1, 2, 3, 4, 0, 1, 2, 3, 4, 0, 1, 2, 3, 4])\n",
      "undo_sorted_bucket_idx\n",
      " Tensor(shape=[30], dtype=int64, place=CPUPlace, stop_gradient=True,\n",
      "       [3, 1, 4, 2, 0, 0, 3, 1, 2, 4, 1, 3, 0, 2, 4, 1, 2, 3, 4, 0, 2, 0, 3, 4, 1, 2, 3, 1, 0, 4])\n"
     ]
    }
   ],
   "metadata": {}
  },
  {
   "cell_type": "code",
   "execution_count": 11,
   "source": [
    "compare(pt_outputs[0],pd_outputs[0]) # 自定义方法结果一致"
   ],
   "outputs": [
    {
     "output_type": "stream",
     "name": "stdout",
     "text": [
      "mean dif: tensor(0.)\n",
      "max dif: tensor(0.)\n"
     ]
    }
   ],
   "metadata": {}
  },
  {
   "cell_type": "code",
   "execution_count": 12,
   "source": [
    "compare(pt_outputs[1],pd_outputs[1]) # 自定义方法结果一致"
   ],
   "outputs": [
    {
     "output_type": "stream",
     "name": "stdout",
     "text": [
      "mean dif: tensor(0.)\n",
      "max dif: tensor(0.)\n"
     ]
    }
   ],
   "metadata": {}
  },
  {
   "cell_type": "markdown",
   "source": [
    "## 四、gather区别 https://github.com/PaddlePaddle/X2Paddle/blob/develop/docs/pytorch_project_convertor/API_docs/ops/torch.gather.md\n",
    "## PaddlePaddle：索引(index)的秩有且只能等于1。"
   ],
   "metadata": {}
  },
  {
   "cell_type": "code",
   "execution_count": 13,
   "source": [
    "# paddle的代码\n",
    "def pd_gather_by_expansion(attention_head_size,vectors, idxs, num_hashes):\n",
    "    expanded_idxs = paddle.tile(\n",
    "        idxs.unsqueeze(-2), repeat_times=[1, 1, attention_head_size, 1]\n",
    "    ).reshape(shape=[-1, idxs.shape[2]])\n",
    "    vectors = (\n",
    "        paddle.tile(vectors, repeat_times=[1, 1, num_hashes, 1])\n",
    "        .transpose(perm=[0, 1, 3, 2])\n",
    "        .reshape(shape=[-1, idxs.shape[2]])\n",
    "    )\n",
    "\n",
    "    return (\n",
    "        paddle.index_sample(vectors, expanded_idxs)\n",
    "        .reshape(shape=[idxs.shape[0], idxs.shape[1], attention_head_size, -1])\n",
    "        .transpose(perm=[0, 1, 3, 2])\n",
    "    )\n",
    "# pytorch的代码\n",
    "def pt_gather_by_expansion(attention_head_size, vectors, idxs, num_hashes):\n",
    "    expanded_idxs = idxs.unsqueeze(-1).expand(-1, -1, -1, attention_head_size)\n",
    "    vectors = vectors.repeat(1, 1, num_hashes, 1)\n",
    "    print(\"expanded_idxs\",expanded_idxs)\n",
    "    return torch.gather(vectors, 2, expanded_idxs)"
   ],
   "outputs": [],
   "metadata": {}
  },
  {
   "cell_type": "code",
   "execution_count": 14,
   "source": [
    "example = paddle.load(\"example.pd\")"
   ],
   "outputs": [],
   "metadata": {}
  },
  {
   "cell_type": "code",
   "execution_count": 15,
   "source": [
    "pd_outputs = pd_gather_by_expansion(*example)\n",
    "pt_outputs = pt_gather_by_expansion(example[0],to_pytorch(example[1]),to_pytorch(example[2]),example[3])"
   ],
   "outputs": [
    {
     "output_type": "stream",
     "name": "stdout",
     "text": [
      "expanded_idxs tensor([[[[  5,   5,   5,  ...,   5,   5,   5],\n",
      "          [ 70,  70,  70,  ...,  70,  70,  70],\n",
      "          [ 90,  90,  90,  ...,  90,  90,  90],\n",
      "          ...,\n",
      "          [122, 122, 122,  ..., 122, 122, 122],\n",
      "          [125, 125, 125,  ..., 125, 125, 125],\n",
      "          [126, 126, 126,  ..., 126, 126, 126]],\n",
      "\n",
      "         [[  8,   8,   8,  ...,   8,   8,   8],\n",
      "          [ 57,  57,  57,  ...,  57,  57,  57],\n",
      "          [124, 124, 124,  ..., 124, 124, 124],\n",
      "          ...,\n",
      "          [122, 122, 122,  ..., 122, 122, 122],\n",
      "          [125, 125, 125,  ..., 125, 125, 125],\n",
      "          [126, 126, 126,  ..., 126, 126, 126]]],\n",
      "\n",
      "\n",
      "        [[[  5,   5,   5,  ...,   5,   5,   5],\n",
      "          [105, 105, 105,  ..., 105, 105, 105],\n",
      "          [107, 107, 107,  ..., 107, 107, 107],\n",
      "          ...,\n",
      "          [124, 124, 124,  ..., 124, 124, 124],\n",
      "          [125, 125, 125,  ..., 125, 125, 125],\n",
      "          [126, 126, 126,  ..., 126, 126, 126]],\n",
      "\n",
      "         [[ 35,  35,  35,  ...,  35,  35,  35],\n",
      "          [ 34,  34,  34,  ...,  34,  34,  34],\n",
      "          [ 40,  40,  40,  ...,  40,  40,  40],\n",
      "          ...,\n",
      "          [124, 124, 124,  ..., 124, 124, 124],\n",
      "          [125, 125, 125,  ..., 125, 125, 125],\n",
      "          [126, 126, 126,  ..., 126, 126, 126]]],\n",
      "\n",
      "\n",
      "        [[[ 79,  79,  79,  ...,  79,  79,  79],\n",
      "          [ 35,  35,  35,  ...,  35,  35,  35],\n",
      "          [107, 107, 107,  ..., 107, 107, 107],\n",
      "          ...,\n",
      "          [124, 124, 124,  ..., 124, 124, 124],\n",
      "          [125, 125, 125,  ..., 125, 125, 125],\n",
      "          [126, 126, 126,  ..., 126, 126, 126]],\n",
      "\n",
      "         [[ 21,  21,  21,  ...,  21,  21,  21],\n",
      "          [ 44,  44,  44,  ...,  44,  44,  44],\n",
      "          [ 88,  88,  88,  ...,  88,  88,  88],\n",
      "          ...,\n",
      "          [124, 124, 124,  ..., 124, 124, 124],\n",
      "          [125, 125, 125,  ..., 125, 125, 125],\n",
      "          [126, 126, 126,  ..., 126, 126, 126]]],\n",
      "\n",
      "\n",
      "        [[[ 17,  17,  17,  ...,  17,  17,  17],\n",
      "          [ 13,  13,  13,  ...,  13,  13,  13],\n",
      "          [ 60,  60,  60,  ...,  60,  60,  60],\n",
      "          ...,\n",
      "          [121, 121, 121,  ..., 121, 121, 121],\n",
      "          [124, 124, 124,  ..., 124, 124, 124],\n",
      "          [125, 125, 125,  ..., 125, 125, 125]],\n",
      "\n",
      "         [[ 34,  34,  34,  ...,  34,  34,  34],\n",
      "          [119, 119, 119,  ..., 119, 119, 119],\n",
      "          [ 40,  40,  40,  ...,  40,  40,  40],\n",
      "          ...,\n",
      "          [121, 121, 121,  ..., 121, 121, 121],\n",
      "          [124, 124, 124,  ..., 124, 124, 124],\n",
      "          [125, 125, 125,  ..., 125, 125, 125]]]])\n"
     ]
    }
   ],
   "metadata": {}
  },
  {
   "cell_type": "code",
   "execution_count": 16,
   "source": [
    "compare(pd_outputs,pt_outputs) # 自定义方法结果一致"
   ],
   "outputs": [
    {
     "output_type": "stream",
     "name": "stdout",
     "text": [
      "mean dif: tensor(0.)\n",
      "max dif: tensor(0.)\n"
     ]
    }
   ],
   "metadata": {}
  },
  {
   "cell_type": "code",
   "execution_count": 17,
   "source": [
    "# 想使用paddle.gather 发现失败，因为index必须要为1D\n",
    "attention_head_size, vectors, idxs, num_hashes = example\n",
    "expanded_idxs = idxs.unsqueeze(-1).expand(shape=[idxs.shape[0], idxs.shape[1], idxs.shape[2], attention_head_size])\n",
    "vectors = paddle.tile(vectors, repeat_times=[1, 1, num_hashes, 1]) \n",
    "paddle.gather(vectors, expanded_idxs,axis=2) # (InvalidArgument) The index should be 1D, when it is not 2D, but we get 4 "
   ],
   "outputs": [
    {
     "output_type": "error",
     "ename": "ValueError",
     "evalue": "(InvalidArgument) The index should be 1D, when it is not 2D, but we get 4\n  [Hint: Expected index_dims.size() == 1, but received index_dims.size():4 != 1:1.] (at C:/home/workspace/Paddle_release2/paddle/fluid/operators/gather_op.cc:53)\n  [operator < gather > error]",
     "traceback": [
      "\u001b[1;31m---------------------------------------------------------------------------\u001b[0m",
      "\u001b[1;31mValueError\u001b[0m                                Traceback (most recent call last)",
      "\u001b[1;32m<ipython-input-17-4db53dd392b5>\u001b[0m in \u001b[0;36m<module>\u001b[1;34m\u001b[0m\n\u001b[0;32m      2\u001b[0m \u001b[0mexpanded_idxs\u001b[0m \u001b[1;33m=\u001b[0m \u001b[0midxs\u001b[0m\u001b[1;33m.\u001b[0m\u001b[0munsqueeze\u001b[0m\u001b[1;33m(\u001b[0m\u001b[1;33m-\u001b[0m\u001b[1;36m1\u001b[0m\u001b[1;33m)\u001b[0m\u001b[1;33m.\u001b[0m\u001b[0mexpand\u001b[0m\u001b[1;33m(\u001b[0m\u001b[0mshape\u001b[0m\u001b[1;33m=\u001b[0m\u001b[1;33m[\u001b[0m\u001b[0midxs\u001b[0m\u001b[1;33m.\u001b[0m\u001b[0mshape\u001b[0m\u001b[1;33m[\u001b[0m\u001b[1;36m0\u001b[0m\u001b[1;33m]\u001b[0m\u001b[1;33m,\u001b[0m \u001b[0midxs\u001b[0m\u001b[1;33m.\u001b[0m\u001b[0mshape\u001b[0m\u001b[1;33m[\u001b[0m\u001b[1;36m1\u001b[0m\u001b[1;33m]\u001b[0m\u001b[1;33m,\u001b[0m \u001b[0midxs\u001b[0m\u001b[1;33m.\u001b[0m\u001b[0mshape\u001b[0m\u001b[1;33m[\u001b[0m\u001b[1;36m2\u001b[0m\u001b[1;33m]\u001b[0m\u001b[1;33m,\u001b[0m \u001b[0mattention_head_size\u001b[0m\u001b[1;33m]\u001b[0m\u001b[1;33m)\u001b[0m\u001b[1;33m\u001b[0m\u001b[1;33m\u001b[0m\u001b[0m\n\u001b[0;32m      3\u001b[0m \u001b[0mvectors\u001b[0m \u001b[1;33m=\u001b[0m \u001b[0mpaddle\u001b[0m\u001b[1;33m.\u001b[0m\u001b[0mtile\u001b[0m\u001b[1;33m(\u001b[0m\u001b[0mvectors\u001b[0m\u001b[1;33m,\u001b[0m \u001b[0mrepeat_times\u001b[0m\u001b[1;33m=\u001b[0m\u001b[1;33m[\u001b[0m\u001b[1;36m1\u001b[0m\u001b[1;33m,\u001b[0m \u001b[1;36m1\u001b[0m\u001b[1;33m,\u001b[0m \u001b[0mnum_hashes\u001b[0m\u001b[1;33m,\u001b[0m \u001b[1;36m1\u001b[0m\u001b[1;33m]\u001b[0m\u001b[1;33m)\u001b[0m\u001b[1;33m\u001b[0m\u001b[1;33m\u001b[0m\u001b[0m\n\u001b[1;32m----> 4\u001b[1;33m \u001b[0mpaddle\u001b[0m\u001b[1;33m.\u001b[0m\u001b[0mgather\u001b[0m\u001b[1;33m(\u001b[0m\u001b[0mvectors\u001b[0m\u001b[1;33m,\u001b[0m \u001b[0mexpanded_idxs\u001b[0m\u001b[1;33m,\u001b[0m\u001b[0maxis\u001b[0m\u001b[1;33m=\u001b[0m\u001b[1;36m2\u001b[0m\u001b[1;33m)\u001b[0m \u001b[1;31m# (InvalidArgument) The index should be 1D, when it is not 2D, but we get 4\u001b[0m\u001b[1;33m\u001b[0m\u001b[1;33m\u001b[0m\u001b[0m\n\u001b[0m",
      "\u001b[1;32m~\\AppData\\Local\\Programs\\Python\\Python37\\lib\\site-packages\\paddle\\tensor\\manipulation.py\u001b[0m in \u001b[0;36mgather\u001b[1;34m(x, index, axis, name)\u001b[0m\n\u001b[0;32m    866\u001b[0m     \u001b[1;32mif\u001b[0m \u001b[0min_dygraph_mode\u001b[0m\u001b[1;33m(\u001b[0m\u001b[1;33m)\u001b[0m\u001b[1;33m:\u001b[0m\u001b[1;33m\u001b[0m\u001b[1;33m\u001b[0m\u001b[0m\n\u001b[0;32m    867\u001b[0m         \u001b[0maxis\u001b[0m \u001b[1;33m=\u001b[0m \u001b[0maxis\u001b[0m\u001b[1;33m.\u001b[0m\u001b[0mitem\u001b[0m\u001b[1;33m(\u001b[0m\u001b[1;33m)\u001b[0m \u001b[1;32mif\u001b[0m \u001b[0misinstance\u001b[0m\u001b[1;33m(\u001b[0m\u001b[0maxis\u001b[0m\u001b[1;33m,\u001b[0m \u001b[0mpaddle\u001b[0m\u001b[1;33m.\u001b[0m\u001b[0mTensor\u001b[0m\u001b[1;33m)\u001b[0m \u001b[1;32melse\u001b[0m \u001b[0maxis\u001b[0m\u001b[1;33m\u001b[0m\u001b[1;33m\u001b[0m\u001b[0m\n\u001b[1;32m--> 868\u001b[1;33m         \u001b[1;32mreturn\u001b[0m \u001b[0mcore\u001b[0m\u001b[1;33m.\u001b[0m\u001b[0mops\u001b[0m\u001b[1;33m.\u001b[0m\u001b[0mgather\u001b[0m\u001b[1;33m(\u001b[0m\u001b[0mx\u001b[0m\u001b[1;33m,\u001b[0m \u001b[0mindex\u001b[0m\u001b[1;33m,\u001b[0m \u001b[1;32mNone\u001b[0m\u001b[1;33m,\u001b[0m \u001b[1;34m\"axis\"\u001b[0m\u001b[1;33m,\u001b[0m \u001b[0maxis\u001b[0m\u001b[1;33m,\u001b[0m \u001b[1;34m\"overwrite\"\u001b[0m\u001b[1;33m,\u001b[0m \u001b[1;32mFalse\u001b[0m\u001b[1;33m)\u001b[0m\u001b[1;33m\u001b[0m\u001b[1;33m\u001b[0m\u001b[0m\n\u001b[0m\u001b[0;32m    869\u001b[0m \u001b[1;33m\u001b[0m\u001b[0m\n\u001b[0;32m    870\u001b[0m     check_variable_and_dtype(\n",
      "\u001b[1;31mValueError\u001b[0m: (InvalidArgument) The index should be 1D, when it is not 2D, but we get 4\n  [Hint: Expected index_dims.size() == 1, but received index_dims.size():4 != 1:1.] (at C:/home/workspace/Paddle_release2/paddle/fluid/operators/gather_op.cc:53)\n  [operator < gather > error]"
     ]
    }
   ],
   "metadata": {}
  }
 ],
 "metadata": {
  "orig_nbformat": 4,
  "language_info": {
   "name": "python",
   "version": "3.7.3",
   "mimetype": "text/x-python",
   "codemirror_mode": {
    "name": "ipython",
    "version": 3
   },
   "pygments_lexer": "ipython3",
   "nbconvert_exporter": "python",
   "file_extension": ".py"
  },
  "kernelspec": {
   "name": "python3",
   "display_name": "Python 3.7.3 64-bit"
  },
  "interpreter": {
   "hash": "086317466957d500e1e3add5d1080e4cde135e955220d9fc98fd7fe59df8a909"
  }
 },
 "nbformat": 4,
 "nbformat_minor": 2
}